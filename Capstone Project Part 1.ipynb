{
    "nbformat_minor": 1, 
    "cells": [
        {
            "source": "# 1. Background:", 
            "cell_type": "markdown", 
            "metadata": {
                "collapsed": true
            }
        }, 
        {
            "source": "Calgary, a cosmopolitan Alberta city with numerous skyscrapers, owes its rapid growth to its status as the centre of Canada\u2019s oil industry. Alberta is a province in Western Canada. Its landscape encompasses mountains, prairies, desert badlands and vast coniferous forests. It has more than 600 lakes, and rich mineral deposits.", 
            "cell_type": "markdown", 
            "metadata": {}
        }, 
        {
            "source": "# 2. Problem:", 
            "cell_type": "markdown", 
            "metadata": {}
        }, 
        {
            "source": "In 2017 and 2018, Alberta produced 70400 and 71200 m3 per day of crude oil respectively. In the past two years, the oil production has been stable due to less irregularity in the oil supply and demand. Moreover, it is expected that the oil production will drop to 64900 m3 per day by 2027 and it will continue to drop substantially. Since the oil production will remain high till the next decade, therefore, an international exploration and production company is contemplating whether to inaugurate their Canadian headquarter in Calgary or not.\n\nTherefore, some key questions are required to be answered: \n\n-   Whether there will be increase in population which will increase the manpower availability\n-\tInflation rate of Calgary which will affect the daily life of their employees\n-\tPolice indicators which accounts for accidents and crime for the safety and security purposes\n-\tWhere is the best neighborhood to open the new headquarter?\n", 
            "cell_type": "markdown", 
            "metadata": {}
        }, 
        {
            "source": "# 3. Data:", 
            "cell_type": "markdown", 
            "metadata": {}
        }, 
        {
            "source": "The following trusted data sources will be utilized for the project.\n\n1.\tCalgary Data: https://www.opendatanetwork.com/search?q=calgary \n\n2.\tFoursquare Location Data: This API has a database of more than 105 million places. This project would use Foursquare API as its prime data gathering source. Many organizations are using to geo-tag their photos with detailed info about a destination, while also serving up contextually relevant locations for those who are searching for a place to eat, drink or explore. This API provides the ability to perform location search, location sharing and details about a business. Foursquare users can also use photos, tips and reviews in many productive ways to add value to the results. \n\nWill use the above data sources to indicate the status, economy and safety situation of Calgary:\n-\tChange in population\n-\tInflation rate\n-\tAccidents and crimes\n-\tNeighborhood and venues\n\nThe data sets listed above will allow us to conclude:\n-\tThe city demographic and population data will show us the future manpower availability.\n-\tInflation rate will tell how expensive it will get in the future\n-\tThe accidents and crime data will highlight the safety situation of the city\n-\tNeighborhoods and location data will help us to find which location is optimum to open the headquarter.\n", 
            "cell_type": "markdown", 
            "metadata": {}
        }, 
        {
            "source": "", 
            "cell_type": "code", 
            "metadata": {}, 
            "outputs": [], 
            "execution_count": null
        }
    ], 
    "metadata": {
        "kernelspec": {
            "display_name": "Python 3.6", 
            "name": "python3", 
            "language": "python"
        }, 
        "language_info": {
            "mimetype": "text/x-python", 
            "nbconvert_exporter": "python", 
            "version": "3.6.8", 
            "name": "python", 
            "pygments_lexer": "ipython3", 
            "file_extension": ".py", 
            "codemirror_mode": {
                "version": 3, 
                "name": "ipython"
            }
        }
    }, 
    "nbformat": 4
}